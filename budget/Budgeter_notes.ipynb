{
 "cells": [
  {
   "cell_type": "code",
   "execution_count": 1,
   "id": "ed897d2b-8c04-46cb-a6ae-c8af07adf080",
   "metadata": {},
   "outputs": [],
   "source": [
    "import pandas as pd\n",
    "st = pd.read_csv('State_Individual_Income_Tax_Rates_Brackets_2022.csv')"
   ]
  },
  {
   "cell_type": "code",
   "execution_count": 2,
   "id": "0b5dfa22-7ebe-4c00-a777-859984848d28",
   "metadata": {},
   "outputs": [],
   "source": [
    "def annual_salary():\n",
    "    salary = int(input(\"Enter your salary: \"))\n",
    "    salary = round(salary, 2)\n",
    "    print(f\"Gross income is ${salary}\\n\")\n",
    "    return salary"
   ]
  },
  {
   "cell_type": "code",
   "execution_count": 3,
   "id": "5ef33cb0-7431-4ac6-a7d8-948e7fcdff9f",
   "metadata": {},
   "outputs": [],
   "source": [
    "def fed_tax():\n",
    "    salary = annual_salary()\n",
    "    esbi = None\n",
    "    while esbi not in [\"1\", \"2\", \"3\", \"4\"]:\n",
    "        esbi = input(\"Which one of the four quadrants are you in? \\n 1) Employee\\n 2) Self Employed\\n 3) Business owner\\n 4) Investor \\n\")\n",
    "    if esbi == \"1\":\n",
    "        fed_income_tax = .37 * salary\n",
    "    elif esbi == \"2\":\n",
    "        fed_income_tax = .35 * salary\n",
    "    elif esbi == \"3\":\n",
    "        fed_income_tax = .20 * salary\n",
    "    elif esbi == \"4\":\n",
    "        fed_income_tax = .15 * salary\n",
    "    else:\n",
    "        print(\"Incorrect answer!\")\n",
    "    fed_income_tax = round(fed_income_tax, 2)\n",
    "    print(f\"Your Federal Income Tax is ${fed_income_tax}\\n\")\n",
    "    return salary, fed_income_tax"
   ]
  },
  {
   "cell_type": "code",
   "execution_count": 4,
   "id": "b739aa87-768f-4700-aef8-35c3611c611d",
   "metadata": {},
   "outputs": [],
   "source": [
    "def state_tax():\n",
    "    salary, fed_income_tax = fed_tax()\n",
    "    state = input(\"Enter your state: \")\n",
    "    if state == \"Florida\" or \"FL\" or \"fl\":\n",
    "        print(f\"Your state income tax is $0\")\n",
    "        state_income_tax = 0\n",
    "\n",
    "    net_income = salary - fed_income_tax - state_income_tax\n",
    "    print(f\"Net income after Federal Income Tax and State Tax is ${net_income}\\n\")\n",
    "    return net_income"
   ]
  },
  {
   "cell_type": "code",
   "execution_count": 5,
   "id": "c18a9215-1505-4e8e-a5f2-99c506e76f3a",
   "metadata": {},
   "outputs": [],
   "source": [
    "def monthly_budget(net_income):\n",
    "    monthly_budget = net_income / 12\n",
    "    monthly_budget = round(monthly_budget, 2)\n",
    "    return monthly_budget"
   ]
  },
  {
   "cell_type": "code",
   "execution_count": 6,
   "id": "3bc7e50c-bb7a-4316-b86e-3186df1de3f9",
   "metadata": {},
   "outputs": [],
   "source": [
    "def savings(monthly_budget):\n",
    "    savings = .10 * monthly_budget\n",
    "    savings = round(savings, 2)\n",
    "    savings_one_year = savings * 12\n",
    "    savings_one_year = round(savings_one_year, 2)\n",
    "    print(f\"Amount placed in savings each month is ${savings}\")\n",
    "    print(f\"The amount saved after 1 year is ${savings_one_year}\\n\")"
   ]
  },
  {
   "cell_type": "code",
   "execution_count": 7,
   "id": "3402cfce-3dc5-415b-9253-60ee022dd4c4",
   "metadata": {},
   "outputs": [],
   "source": [
    "def investing(monthly_budget):\n",
    "    investing = .25 * monthly_budget\n",
    "    investing = round(investing, 2)\n",
    "    investings_one_year = investing * 12\n",
    "    investings_one_year = round(investings_one_year, 2)\n",
    "    print(f\"Amount invested each month is ${investing}\")\n",
    "    print(f\"The amount invested after 1 year is ${investings_one_year}\\n\")"
   ]
  },
  {
   "cell_type": "code",
   "execution_count": 8,
   "id": "66eacc28-7260-4aca-817d-3e2c4050c7a7",
   "metadata": {},
   "outputs": [],
   "source": [
    "def expenses(monthly_budget):\n",
    "    expenses = .60 * monthly_budget\n",
    "    expenses = round(expenses, 2)\n",
    "    print(f\"Amount spent on expenses each month is ${expenses}\\n\")"
   ]
  },
  {
   "cell_type": "code",
   "execution_count": 9,
   "id": "1874f558-e734-4985-b0b3-61a15068a0db",
   "metadata": {},
   "outputs": [],
   "source": [
    "def wants(monthly_budget):\n",
    "    wants = .05 * monthly_budget\n",
    "    wants = round(wants, 2)\n",
    "    print(f\"Amount spent on wants each month is ${wants}\\n\")"
   ]
  },
  {
   "cell_type": "code",
   "execution_count": 10,
   "id": "3c93ebfc-a072-4255-a82b-a6e7cc7cd233",
   "metadata": {},
   "outputs": [
    {
     "name": "stdin",
     "output_type": "stream",
     "text": [
      "Enter your salary:  77000\n"
     ]
    },
    {
     "name": "stdout",
     "output_type": "stream",
     "text": [
      "Gross income is $77000\n",
      "\n"
     ]
    },
    {
     "name": "stdin",
     "output_type": "stream",
     "text": [
      "Which one of the four quadrants are you in? \n",
      " 1) Employee\n",
      " 2) Self Employed\n",
      " 3) Business owner\n",
      " 4) Investor \n",
      " 1\n"
     ]
    },
    {
     "name": "stdout",
     "output_type": "stream",
     "text": [
      "Your Federal Income Tax is $28490.0\n",
      "\n"
     ]
    },
    {
     "name": "stdin",
     "output_type": "stream",
     "text": [
      "Enter your state:  fl\n"
     ]
    },
    {
     "name": "stdout",
     "output_type": "stream",
     "text": [
      "Your state income tax is $0\n",
      "Net income after Federal Income Tax and State Tax is $48510.0\n",
      "\n",
      "Amount placed in savings each month is $404.25\n",
      "The amount saved after 1 year is $4851.0\n",
      "\n",
      "Amount invested each month is $1010.62\n",
      "The amount invested after 1 year is $12127.44\n",
      "\n",
      "Amount spent on expenses each month is $2425.5\n",
      "\n",
      "Amount spent on wants each month is $202.12\n",
      "\n"
     ]
    },
    {
     "name": "stdin",
     "output_type": "stream",
     "text": [
      "Would you like to start over? Y/N:  y\n",
      "Enter your salary:  100000\n"
     ]
    },
    {
     "name": "stdout",
     "output_type": "stream",
     "text": [
      "Gross income is $100000\n",
      "\n"
     ]
    },
    {
     "name": "stdin",
     "output_type": "stream",
     "text": [
      "Which one of the four quadrants are you in? \n",
      " 1) Employee\n",
      " 2) Self Employed\n",
      " 3) Business owner\n",
      " 4) Investor \n",
      " 4\n"
     ]
    },
    {
     "name": "stdout",
     "output_type": "stream",
     "text": [
      "Your Federal Income Tax is $15000.0\n",
      "\n"
     ]
    },
    {
     "name": "stdin",
     "output_type": "stream",
     "text": [
      "Enter your state:  fl\n"
     ]
    },
    {
     "name": "stdout",
     "output_type": "stream",
     "text": [
      "Your state income tax is $0\n",
      "Net income after Federal Income Tax and State Tax is $85000.0\n",
      "\n"
     ]
    },
    {
     "ename": "TypeError",
     "evalue": "'float' object is not callable",
     "output_type": "error",
     "traceback": [
      "\u001b[0;31m---------------------------------------------------------------------------\u001b[0m",
      "\u001b[0;31mTypeError\u001b[0m                                 Traceback (most recent call last)",
      "Input \u001b[0;32mIn [10]\u001b[0m, in \u001b[0;36m<cell line: 2>\u001b[0;34m()\u001b[0m\n\u001b[1;32m      1\u001b[0m \u001b[38;5;28;01mwhile\u001b[39;00m \u001b[38;5;28;01mTrue\u001b[39;00m:\n\u001b[1;32m      2\u001b[0m     net_income \u001b[38;5;241m=\u001b[39m state_tax()\n\u001b[0;32m----> 3\u001b[0m     monthly_budget \u001b[38;5;241m=\u001b[39m \u001b[43mmonthly_budget\u001b[49m\u001b[43m(\u001b[49m\u001b[43mnet_income\u001b[49m\u001b[43m)\u001b[49m\n\u001b[1;32m      4\u001b[0m     savings(monthly_budget)\n\u001b[1;32m      5\u001b[0m     investing(monthly_budget)\n",
      "\u001b[0;31mTypeError\u001b[0m: 'float' object is not callable"
     ]
    }
   ],
   "source": [
    "while True:\n",
    "    net_income = state_tax()\n",
    "    monthly_budget = monthly_budget(net_income)\n",
    "    savings(monthly_budget)\n",
    "    investing(monthly_budget)\n",
    "    expenses(monthly_budget)\n",
    "    wants(monthly_budget)\n",
    "    start_over = None\n",
    "    while start_over not in [\"Yes\", \"yes\", \"Y\", \"y\", \"No\", \"no\", \"N\", \"n\"]:\n",
    "        start_over = input(\"Would you like to start over? Y/N: \")"
   ]
  },
  {
   "cell_type": "code",
   "execution_count": null,
   "id": "f7f5465f-197f-4929-b865-27ded9cfee6b",
   "metadata": {},
   "outputs": [],
   "source": []
  }
 ],
 "metadata": {
  "kernelspec": {
   "display_name": "Python 3 (ipykernel)",
   "language": "python",
   "name": "python3"
  },
  "language_info": {
   "codemirror_mode": {
    "name": "ipython",
    "version": 3
   },
   "file_extension": ".py",
   "mimetype": "text/x-python",
   "name": "python",
   "nbconvert_exporter": "python",
   "pygments_lexer": "ipython3",
   "version": "3.9.6"
  }
 },
 "nbformat": 4,
 "nbformat_minor": 5
}
